{
 "cells": [
  {
   "cell_type": "code",
   "execution_count": null,
   "metadata": {},
   "outputs": [],
   "source": [
    "import requests\n",
    "import pandas as pd\n",
    "import json\n",
    "import matplotlib.pyplot as plt\n",
    "import matplotlib.dates as mdates\n",
    "%matplotlib inline\n",
    "plt.style.use('Solarize_Light2')"
   ]
  },
  {
   "cell_type": "code",
   "execution_count": null,
   "metadata": {
    "scrolled": false
   },
   "outputs": [],
   "source": [
    "r = requests.get('https://datamarket.com/api/v1/list.json?ds=22qx')\n",
    "jobj = json.loads(r.text[18:-1])\n",
    "data = jobj[0]['data']\n",
    "df = pd.DataFrame(data, columns=['time','data']).set_index('time')\n",
    "train = df.iloc[:-10, :]\n",
    "test = df.iloc[-10:, :]\n",
    "pred = test.copy()\n",
    "df.plot(figsize=(12,3));\n",
    "plt.title(jobj[0]['title']);\n",
    "\n",
    "df['z_data'] = (df['data'] - df.data.rolling(window=12).mean()) / df.data.rolling(window=12).std()\n",
    "df['zp_data'] = df['z_data'] - df['z_data'].shift(12)\n",
    "\n",
    "def plot_rolling(df):\n",
    "    fig, ax = plt.subplots(3,figsize=(12, 9))\n",
    "    ax[0].plot(df.index, df.data, label='raw data')\n",
    "    ax[0].plot(df.data.rolling(window=12).mean(), label=\"rolling mean\");\n",
    "    ax[0].plot(df.data.rolling(window=12).std(), label=\"rolling std (x10)\");\n",
    "    ax[0].legend()\n",
    "\n",
    "    ax[1].plot(df.index, df.z_data, label=\"de-trended data\")\n",
    "    ax[1].plot(df.z_data.rolling(window=12).mean(), label=\"rolling mean\");\n",
    "    ax[1].plot(df.z_data.rolling(window=12).std(), label=\"rolling std (x10)\");\n",
    "    ax[1].legend()\n",
    "\n",
    "    ax[2].plot(df.index, df.zp_data, label=\"12 lag differenced de-trended data\")\n",
    "    ax[2].plot(df.zp_data.rolling(window=12).mean(), label=\"rolling mean\");\n",
    "    ax[2].plot(df.zp_data.rolling(window=12).std(), label=\"rolling std (x10)\");\n",
    "    ax[2].legend()\n",
    "\n",
    "    plt.tight_layout()\n",
    "    fig.autofmt_xdate()"
   ]
  },
  {
   "cell_type": "code",
   "execution_count": null,
   "metadata": {},
   "outputs": [],
   "source": []
  }
 ],
 "metadata": {
  "kernelspec": {
   "display_name": "Python 3",
   "language": "python",
   "name": "python3"
  },
  "language_info": {
   "codemirror_mode": {
    "name": "ipython",
    "version": 3
   },
   "file_extension": ".py",
   "mimetype": "text/x-python",
   "name": "python",
   "nbconvert_exporter": "python",
   "pygments_lexer": "ipython3",
   "version": "3.7.4"
  }
 },
 "nbformat": 4,
 "nbformat_minor": 2
}
